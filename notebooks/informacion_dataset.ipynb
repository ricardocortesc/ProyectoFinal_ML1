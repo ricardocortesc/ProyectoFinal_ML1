{
 "cells": [
  {
   "cell_type": "markdown",
   "id": "c3672677",
   "metadata": {},
   "source": [
    "# Proyecto Final - Machine Learning 1\n",
    "- Ricardo Andrés Cortés Coronell\n",
    "- Sebastian Castellanos Estupiñan\n",
    "- Andrés Felipe Sanchez Rincón\n"
   ]
  },
  {
   "cell_type": "markdown",
   "id": "1c552ac1",
   "metadata": {},
   "source": [
    "## Sobre el Dataset"
   ]
  },
  {
   "cell_type": "markdown",
   "id": "337657d5",
   "metadata": {},
   "source": [
    "**Fuente:** https://archive.ics.uci.edu/dataset/373/drug+consumption+quantified\n",
    "\n",
    "Este dataset contiene información de 1885 individuos y 32 variables (13 de entrada y 19 objetivos), incluyendo:\n",
    "\n",
    "Datos demográficos: edad, género, país, educación, etnia\n",
    "\n",
    "Rasgos de personalidad (modelo de los cinco grandes): Nscore, Escore, Oscore, Ascore, Cscore\n",
    "\n",
    "Otros factores psicológicos: impulsividad (BIS-11), búsqueda de sensaciones (ImpSS)\n",
    "\n",
    "Clasificación del consumo de 18 tipos de sustancias, como alcohol, cannabis, cocaína, LSD, etc.\n",
    "Cada droga tiene una etiqueta categórica con 7 posibles clases (CL0 a CL6) según la frecuencia de consumo.\n"
   ]
  },
  {
   "cell_type": "markdown",
   "id": "a566bf7a",
   "metadata": {},
   "source": [
    "## Diccionario del Dataset"
   ]
  },
  {
   "cell_type": "markdown",
   "id": "f6b70d86",
   "metadata": {},
   "source": [
    "### Variables de entrada\n",
    "\n",
    "| Columna     | Descripción                                                                                       |\n",
    "|-------------|---------------------------------------------------------------------------------------------------|\n",
    "| `ID`        | Número identificador (sin relación con la persona real)                                           |\n",
    "| `Age`       | Edad codificada:                                                                                  |\n",
    "|             | - `-0.95197`: 18-24, `-0.07854`: 25-34, `0.49788`: 35-44, `1.09449`: 45-54, `1.82213`: 55-64, `2.59171`: 65+ |\n",
    "| `Gender`    | Género codificado: `0.48246` = Mujer, `-0.48246` = Hombre                                          |\n",
    "| `Education` | Nivel educativo:                                                                                   |\n",
    "|             | - `-2.43591`: < 16 años, `-1.73790`: a los 16, `-1.43719`: a los 17, `-1.22751`: a los 18          |\n",
    "|             | - `-0.61113`: Universidad sin título, `-0.05921`: Técnico, `0.45468`: Profesional, `1.16365`: Maestría, `1.98437`: Doctorado |\n",
    "| `Country`   | País de residencia codificado:                                                                    |\n",
    "|             | - `0.96082`: UK, `-0.57009`: USA, `0.24923`: Canadá, `-0.09765`: Australia, etc.                  |\n",
    "| `Ethnicity` | Grupo étnico codificado: `-0.31685`: Blanco, `-0.50212`: Asiático, `-1.10702`: Negro, etc.         |\n",
    "| `Nscore`    | Neuroticismo (NEO-FFI-R) normalizado                                                               |\n",
    "| `Escore`    | Extraversión (NEO-FFI-R) normalizado                                                               |\n",
    "| `Oscore`    | Apertura a nuevas experiencias (NEO-FFI-R)                                                         |\n",
    "| `Ascore`    | Amabilidad (NEO-FFI-R)                                                                             |\n",
    "| `Cscore`    | Responsabilidad (NEO-FFI-R)                                                                        |\n",
    "| `Impulsive` | Impulsividad medida por BIS-11                                                                    |\n",
    "| `SS`        | Sensación de búsqueda medida por ImpSS                                                             |\n",
    "\n",
    "---\n",
    "\n",
    "### Variables objetivo (por sustancia)\n",
    "\n",
    "Cada sustancia tiene una columna con una de las siguientes clases (codificadas en el dataset como `CLx`):\n",
    "\n",
    "| Código  | Interpretación             |\n",
    "|---------|----------------------------|\n",
    "| CL0     | Nunca ha usado             |\n",
    "| CL1     | Usado hace más de 10 años  |\n",
    "| CL2     | Usado en la última década  |\n",
    "| CL3     | Usado en el último año     |\n",
    "| CL4     | Usado en el último mes     |\n",
    "| CL5     | Usado en la última semana  |\n",
    "| CL6     | Usado en el último día     |\n",
    "\n",
    "**Columnas de consumo:**\n",
    "\n",
    "- `Alcohol`\n",
    "- `Amphet` (Anfetaminas)\n",
    "- `Amyl` (Nitrito de amilo)\n",
    "- `Benzos` (Benzodiacepinas)\n",
    "- `Caff` (Cafeína)\n",
    "- `Cannabis` (Marihuana)\n",
    "- `Chocolate`\n",
    "- `Coke` (Cocaína)\n",
    "- `Crack`\n",
    "- `Ecstasy` (Éxtasis)\n",
    "- `Heroin`\n",
    "- `Ketamine`\n",
    "- `Legalh` (Drogas legales)\n",
    "- `LSD`\n",
    "- `Meth` (Metadona)\n",
    "- `Mushrooms` (Hongos)\n",
    "- `Nicotine`\n",
    "- `Semer` (Droga ficticia Semeron)\n",
    "- `VSA` (Abuso de sustancias volátiles)\n",
    "\n",
    "---"
   ]
  }
 ],
 "metadata": {
  "language_info": {
   "name": "python"
  }
 },
 "nbformat": 4,
 "nbformat_minor": 5
}
